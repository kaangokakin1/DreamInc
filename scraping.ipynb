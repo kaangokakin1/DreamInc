{
 "cells": [
  {
   "cell_type": "code",
   "execution_count": 1,
   "metadata": {},
   "outputs": [
    {
     "name": "stdout",
     "output_type": "stream",
     "text": [
      "https://dopebox.to/\n",
      "https://dopebox.to/movie?page=3\n",
      "https://dopebox.to/genre/tv-movie\n",
      "https://dopebox.to/android-movies-apk\n",
      "https://www.similarweb.com/it/website/dopebox.net/competitors/\n",
      "https://www.similarweb.com/it/website/dopebox.se/competitors/\n",
      "https://www.sitelike.org/similar/dopebox.to/\n",
      "https://www.siteprice.org/similar-websites/dopebox.to\n",
      "https://webparanoid.com/it/controllare-il-sito-web/dopebox.to\n",
      "https://www.amazon.com/Dope-Box-Jack-Drag/dp/B00000AFAR\n"
     ]
    }
   ],
   "source": [
    "from googlesearch import search\n",
    "\n",
    "query = \"dopebox\"\n",
    " \n",
    "for j in search(query, tld=\"co.in\", num=10, stop=10, pause=2):\n",
    "    print(j)"
   ]
  }
 ],
 "metadata": {
  "kernelspec": {
   "display_name": "Python 3",
   "language": "python",
   "name": "python3"
  },
  "language_info": {
   "codemirror_mode": {
    "name": "ipython",
    "version": 3
   },
   "file_extension": ".py",
   "mimetype": "text/x-python",
   "name": "python",
   "nbconvert_exporter": "python",
   "pygments_lexer": "ipython3",
   "version": "3.11.5"
  },
  "orig_nbformat": 4
 },
 "nbformat": 4,
 "nbformat_minor": 2
}
