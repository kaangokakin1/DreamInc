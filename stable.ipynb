{
 "cells": [
  {
   "cell_type": "code",
   "execution_count": 30,
   "metadata": {},
   "outputs": [],
   "source": [
    "import requests\n",
    "import json\n",
    "\n",
    "url = \"https://stablediffusionapi.com/api/v3/text2img\"\n",
    "\n",
    "payload = json.dumps({\n",
    "  \"key\": \"qoaadSIN1aON5lgcFQKC6fnQXKZ2orp6xM2bEDWvzhm3tc0pBa8u6cKJq1SH\",\n",
    "  \"prompt\": \"in my dream i was in a rock band. we were touring around the globe and it was amazing. then our drummer died of overdose\",\n",
    "  \"negative_prompt\": None,\n",
    "  \"width\": \"512\",\n",
    "  \"height\": \"512\",\n",
    "  \"samples\": \"1\",\n",
    "  \"num_inference_steps\": \"20\",\n",
    "  \"seed\": None,\n",
    "  \"guidance_scale\": 7.5,\n",
    "  \"safety_checker\": \"yes\",\n",
    "  \"multi_lingual\": \"no\",\n",
    "  \"panorama\": \"no\",\n",
    "  \"self_attention\": \"no\",\n",
    "  \"upscale\": \"no\",\n",
    "  \"webhook\": None,\n",
    "  \"track_id\": None\n",
    "})\n",
    "\n",
    "headers = {\n",
    "  'Content-Type': 'application/json'\n",
    "}\n",
    "\n",
    "response = requests.request(\"POST\", url, headers=headers, data=payload)\n",
    "\n"
   ]
  },
  {
   "cell_type": "code",
   "execution_count": 31,
   "metadata": {},
   "outputs": [
    {
     "data": {
      "text/plain": [
       "'{\"status\":\"success\",\"generationTime\":0.9301369190216064,\"id\":49119415,\"output\":[\"https:\\\\/\\\\/cdn2.stablediffusionapi.com\\\\/generations\\\\/4a1772c3-6a7a-4d58-9b0b-17e179050331-0.png\"],\"meta\":{\"H\":512,\"W\":512,\"enable_attention_slicing\":\"true\",\"file_prefix\":\"4a1772c3-6a7a-4d58-9b0b-17e179050331\",\"guidance_scale\":7.5,\"instant_response\":\"no\",\"model\":\"runwayml\\\\/stable-diffusion-v1-5\",\"n_samples\":1,\"negative_prompt\":\"low quality\",\"outdir\":\"out\",\"prompt\":\"in my dream i was in a rock band. we were touring around the globe and it was amazing. then our drummer died of overdose\",\"revision\":\"fp16\",\"safetychecker\":\"yes\",\"seed\":3849616396,\"steps\":20,\"vae\":\"stabilityai\\\\/sd-vae-ft-mse\"}}'"
      ]
     },
     "execution_count": 31,
     "metadata": {},
     "output_type": "execute_result"
    }
   ],
   "source": [
    "response.text"
   ]
  }
 ],
 "metadata": {
  "kernelspec": {
   "display_name": "Python 3",
   "language": "python",
   "name": "python3"
  },
  "language_info": {
   "codemirror_mode": {
    "name": "ipython",
    "version": 3
   },
   "file_extension": ".py",
   "mimetype": "text/x-python",
   "name": "python",
   "nbconvert_exporter": "python",
   "pygments_lexer": "ipython3",
   "version": "3.11.6"
  }
 },
 "nbformat": 4,
 "nbformat_minor": 2
}
